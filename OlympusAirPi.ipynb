{
 "metadata": {
  "kernelspec": {
   "display_name": "Python 2",
   "language": "python",
   "name": "python2"
  },
  "language_info": {
   "codemirror_mode": {
    "name": "ipython",
    "version": 2
   },
   "file_extension": ".py",
   "mimetype": "text/x-python",
   "name": "python",
   "nbconvert_exporter": "python",
   "pygments_lexer": "ipython2",
   "version": "2.7.10"
  },
  "name": "OlympusAirPi"
 },
 "nbformat": 3,
 "nbformat_minor": 0,
 "worksheets": [
  {
   "cells": [
    {
     "cell_type": "code",
     "collapsed": false,
     "input": [
      "import requests\n",
      "import socket\n",
      "import xmltodict\n",
      "import os\n",
      "import datetime\n",
      "from collections import OrderedDict\n",
      "from datetime import date\n",
      "\n",
      "from PIL import Image\n",
      "from StringIO import StringIO\n",
      "\n",
      "class OlympusAirEvent:\n",
      "    def __init__(self,appID,eventID,data):\n",
      "        self.appID = appID\n",
      "        self.eventID = eventID\n",
      "        self.data = data\n",
      "    \n",
      "    def __str__(self):\n",
      "        return 'appID: %i; eventID: %i; data: %s' % (self.appID, self.eventID, self.data)\n",
      "    \n",
      "class OlympusAirFile:\n",
      "    def __init__(self,paramList):\n",
      "        self.directory = paramList[0]\n",
      "        self.fileName = paramList[1]\n",
      "        self.size = int(paramList[2])\n",
      "        self.attr = int(paramList[3])\n",
      "        self.date = int(paramList[4])\n",
      "        self.time = int(paramList[5])\n",
      "        \n",
      "    def __repr__(self):\n",
      "        return '(%s, %s, %i, %i, %s)' % (self.directory,self.fileName, self.size, self.attr, self.getDate().strftime('%Y-%m-%d_%H-%M-%S'))\n",
      "\n",
      "    def __cmp__(self,other):\n",
      "        if self.date > other.date:\n",
      "            return 1\n",
      "        elif self.date < other.date:\n",
      "            return -1\n",
      "        else:\n",
      "            if self.time > other.time:\n",
      "                return 1\n",
      "            elif self.time < other.time:\n",
      "                return -1\n",
      "            else:\n",
      "                return 0\n",
      "    \n",
      "    def getDate(self):\n",
      "        \n",
      "        day = int(self.date & 0x1f)\n",
      "        month = int((self.date & 0x1e0) >> 5)\n",
      "        year = int((self.date & 0xfe00) >> 9) + 1980\n",
      "        \n",
      "        sec = int(self.time & 0x1f)*2\n",
      "        minutes = int((self.time & 0x7e) >> 5)\n",
      "        hours = int((self.time & 0xf088) >> 11)\n",
      "        \n",
      "        \n",
      "        return datetime.datetime(year,month,day,hours,minutes,sec)\n",
      "        \n",
      "\n",
      "class OlympusAir:\n",
      "    \n",
      "    headers = {'User-Agent':'OlympusCameraKit'}\n",
      "    \n",
      "    def __init__(self, evPort=65000, lvPort=65001):\n",
      "        headers = {'User-Agent':'OlympusCameraKit'}\n",
      "        req = requests.get('http://192.168.0.10/get_connectmode.cgi',headers=headers)\n",
      "    \n",
      "        if req.status_code == 200 and (xmltodict.parse(req.text)['connectmode'] == 'OPC'):\n",
      "            print 'Camera init: OK'\n",
      "        else:\n",
      "            print 'Camera init: Failed'\n",
      "        \n",
      "        print 'Establishing camera event notification:',\n",
      "        params={'port':evPort}\n",
      "        req = requests.get('http://192.168.0.10/start_pushevent.cgi',headers=headers,params=params)\n",
      "        \n",
      "        if req.status_code == 200:\n",
      "            print 'OK'\n",
      "        else:\n",
      "            print 'Failed'\n",
      "        \n",
      "       \n",
      "        # Establish an event socket. Keep trying untill you succeed\n",
      "        print 'Establishing event socket, port %i: ' % evPort,\n",
      "        \n",
      "      \n",
      "        self.eventSocket = socket.socket(socket.AF_INET,socket.SOCK_STREAM)\n",
      "        self.eventSocket.setsockopt(socket.SOL_SOCKET,socket.SO_REUSEADDR,1)\n",
      "        self.eventSocket.settimeout(10)\n",
      "        \n",
      "        self.eventSocket.connect(('192.168.0.10',evPort))\n",
      "    \n",
      "        # soc.bind(('',evPort))\n",
      "        self.eventPort = evPort   \n",
      "        self.lvPort = lvPort\n",
      "        \n",
      "        \n",
      "        \n",
      "\n",
      "        \n",
      "    def disconnect(self):        \n",
      "        print 'Disconnecting camera:',\n",
      "        req = requests.get('http://192.168.0.10/stop_pushevent.cgi',headers=self.headers)\n",
      "        if req.status_code == 200:\n",
      "            print 'OK'\n",
      "        else:\n",
      "            print 'Failed'\n",
      "        \n",
      "        self.eventSocket.close()\n",
      "             \n",
      "            \n",
      "            \n",
      "            \n",
      "            \n",
      "            \n",
      "    def commInterface(self,interface='wifi'):\n",
      "        print 'Camera communication mode change to %s:' % interface,\n",
      "        params = {'path':interface}\n",
      "        \n",
      "        req = requests.get('http://192.168.0.10/switch_commpath.cgi',headers = self.headers, params = params)\n",
      "        if req.status_code == 200:\n",
      "            print 'OK'\n",
      "        else:\n",
      "            print 'Failed'\n",
      "        \n",
      "        \n",
      "        \n",
      "        \n",
      "        \n",
      "    def getState(self):\n",
      "        req = requests.get('http://192.168.0.10/get_state.cgi',headers=self.headers)\n",
      "\n",
      "        if req.status_code == 200:\n",
      "            return xmltodict.parse(req.text)['response']\n",
      "        else:\n",
      "            return []\n",
      "\n",
      "        \n",
      "        \n",
      "        \n",
      "        \n",
      "    def switchMode(self,mode):\n",
      "        print 'Camera mode change to %s:' % mode,\n",
      "        params = {'mode':mode}\n",
      "        req = requests.get('http://192.168.0.10/switch_cameramode.cgi',headers=self.headers,params=params)\n",
      "        \n",
      "        if req.status_code == 200 and xmltodict.parse(req.text)['result'] == 'OK':\n",
      "            print 'OK'\n",
      "        else:\n",
      "            print 'Failed %i' % req.status_code\n",
      "        \n",
      "        \n",
      "        selected, event = self.waitForEvent([201])\n",
      "        for (i,j) in zip(selected,event):\n",
      "            print i, j\n",
      "        \n",
      "    \n",
      "    \n",
      "    \n",
      "    def getFilesList(self,dirName='/DCIM/100OLYMP'):\n",
      "        params = {'DIR':dirName}\n",
      "        req = requests.get('http://192.168.0.10/get_imglist.cgi',headers=self.headers,params=params)\n",
      "        \n",
      "        if req.status_code == 404:\n",
      "            print 'Not found'\n",
      "            return None\n",
      "        \n",
      "        filesList = []\n",
      "        for l in req.text.splitlines()[1:]:\n",
      "            filesList.append(OlympusAirFile(l.split(',')))\n",
      "        \n",
      "        return filesList\n",
      "    \n",
      "    \n",
      "    \n",
      "    \n",
      "    \n",
      "        \n",
      "\n",
      "    def getFile(self,path):\n",
      "        req = requests.get('http://192.168.0.10' + path,headers=self.headers)\n",
      "        \n",
      "        \n",
      "        return req\n",
      "    \n",
      "    \n",
      "    def getLatestFile(self):\n",
      "        \n",
      "        fList = self.getFilesList()\n",
      "        fList.sort(reverse = True)\n",
      "        \n",
      "        \n",
      "        f1Name, f1Format = fList[0].fileName.split('.')\n",
      "        f1 = self.getFile(fList[0].directory + '/' + fList[0].fileName)\n",
      "        \n",
      "        f2Name, f2Format = fList[1].fileName.split('.')\n",
      "        \n",
      "        if f2Name == f1Name and f1Format != f2Format :\n",
      "            f2 = self.getFile(fList[1].directory + '/' + fList[1].fileName)\n",
      "        \n",
      "            if f1Format == 'JPG' and f2Format == 'ORF':\n",
      "                return f1.content, f2.content\n",
      "            elif f1Format == 'ORF' and f2Format == 'JPG':\n",
      "                return f2.content, f1.content\n",
      "        \n",
      "        return f1.content, None\n",
      "    \n",
      "    \n",
      "    \n",
      "    \n",
      "    def getResizedFile(self, path, size):\n",
      "        headers = {'User-Agent':'OlympusCameraKit'}\n",
      "        params = {'DIR':path,'size':size}\n",
      "        \n",
      "        \n",
      "        req = requests.get('http://192.168.0.10/get_resizeimg.cgi',headers=headers,params=params)\n",
      "        print req.status_code\n",
      "        \n",
      "        return req\n",
      "    \n",
      "    \n",
      "    \n",
      "    \n",
      "    \n",
      "    \n",
      "    def setZoom(self, focalLength):\n",
      "        \n",
      "        print 'Camera zoom set to %i:' % focalLength,\n",
      "        params = OrderedDict([('com','newctrlzoom'),('ctrl','start'),('dir','fix'),('focallen',focalLength)])\n",
      "        \n",
      "        req = requests.get('http://192.168.0.10/exec_takemisc.cgi',headers=self.headers,params=params)\n",
      "        \n",
      "        if req.status_code == 200 and (xmltodict.parse(req.text)['result'] == 'OK'):\n",
      "            print 'OK' \n",
      "        else:\n",
      "            print 'Failed'\n",
      "            return\n",
      "            \n",
      "        selected, event = self.waitForEvent([122])\n",
      "\n",
      "   \n",
      "            \n",
      "            \n",
      "            \n",
      "            \n",
      "    def getEventNotifications(self,sock):\n",
      "        \n",
      "        i = 0\n",
      "        \n",
      "        buff = sock.recv(1024)\n",
      "        eventList = []\n",
      "        while i < len(buff)-1:\n",
      "            appID = ord(buff[i+0])\n",
      "            event = ord(buff[i+1])\n",
      "            length = ord(buff[i+2])*256 + ord(buff[i+3])\n",
      "            data = buff[(i+4):(i+4+length)]\n",
      "                \n",
      "            event = OlympusAirEvent(appID,event,data)\n",
      "            # print event\n",
      "            i = i+4+length\n",
      "            eventList.append(event)\n",
      "        \n",
      "        return eventList\n",
      "    \n",
      "    def findEvent(self,eventList,eventID):\n",
      "        sel = [None] * len(eventID)\n",
      "        found = [False] * len(eventID)\n",
      "         \n",
      "        for e in eventList:\n",
      "             # print e \n",
      "             if e.eventID in eventID:\n",
      "                 found = [True if e.eventID == j else False for j in eventID]\n",
      "                 sel = [e if e.eventID == j else None for j in eventID]\n",
      "            \n",
      "        return found, sel\n",
      "    \n",
      "    def waitForEvent(self,eventID,mode = 'AND'):\n",
      "        \n",
      "        found = [False]*len(eventID)\n",
      "        event = [None]*len(eventID)\n",
      "        # print found\n",
      "        \n",
      "        \n",
      "        i=0\n",
      "        while i < 10:\n",
      " \n",
      "            try:\n",
      "                eventList = self.getEventNotifications(self.eventSocket)\n",
      "                tmpFound, tmpEvent = self.findEvent(eventList,eventID)\n",
      "                # print i, found, tmpFound, tmpEvent\n",
      "                event = [i if j else k for (i,j,k) in zip(tmpEvent,tmpFound,event)]\n",
      "                found = [i or j for (i,j) in zip(tmpFound,found)]                                          \n",
      "                \n",
      "                # print found, tmpFound == True\n",
      "                if mode == 'AND':\n",
      "                    if all(found):\n",
      "                        return found, event\n",
      "                else:\n",
      "                    if any(found):\n",
      "                        return found, event\n",
      "                \n",
      "            except socket.timeout as err:\n",
      "                print 'Timeout'\n",
      "            \n",
      "            i = i+1\n",
      "        \n",
      "        return found, event\n",
      "            \n",
      "        \n",
      "    def getProperty(self,propName):\n",
      "   \n",
      "        print 'Camera property %s read' % propName,\n",
      "        params=OrderedDict([('com','desc'),('propname',propName)])\n",
      "        req = requests.get('http://192.168.0.10/get_camprop.cgi',headers=self.headers,params=params)\n",
      "        \n",
      "        if req.status_code == 200:\n",
      "            state = xmltodict.parse(req.text)['desc']['value']\n",
      "            allowedStates = xmltodict.parse(req.text)['desc']['enum']\n",
      "            print '%s (%s): OK' % (state,allowedStates)\n",
      "            return state\n",
      "        else:\n",
      "            print ': Fail'\n",
      "        \n",
      " \n",
      "    def setProperty(self, propName, propVal):\n",
      "        \n",
      "        # We need to get the property first. Setting a property to a value that is equal to the old value does not always\n",
      "        # work.\n",
      "        currentVal = self.getProperty(propName)\n",
      "        print 'Camera property %s change to %s:' % (propName,propVal), \n",
      "        if currentVal != propVal:\n",
      "            \n",
      "            params = OrderedDict([('com','set'),('propname',propName)])\n",
      "            payload = '<?xml version=\"1.0\"?><set><value>%s</value></set>\\n' % (propVal)\n",
      "        \n",
      "            req = requests.post('http://192.168.0.10/set_camprop.cgi',headers=self.headers,params=params,data=payload)\n",
      "    \n",
      "            if req.status_code == 200:\n",
      "                print 'OK'\n",
      "            else:\n",
      "                print 'Fail'\n",
      "\n",
      "            \n",
      "            selected, event = self.waitForEvent([206])\n",
      "            for (i,j) in zip(selected,event):\n",
      "                print i,j\n",
      "        else:\n",
      "            print  'Not needed'\n",
      "        \n",
      "        \n",
      "        \n",
      "        \n",
      "        \n",
      "        \n",
      "    def startPreview(self,resolution = '0320x0240'):\n",
      "        \n",
      "        \n",
      "        print 'Establishing liveview socket %i:' % self.lvPort,    \n",
      "        self.lvSocket = socket.socket(socket.AF_INET,socket.SOCK_DGRAM) #UDP\n",
      "        self.lvSocket.bind(('',self.lvPort))\n",
      "        self.lvSocket.settimeout(20)\n",
      "        print 'OK' \n",
      "            \n",
      "        \n",
      "        \n",
      "        \n",
      "        print 'Camera live view resolution change to %s:' % resolution,\n",
      "        params = OrderedDict([('com','changelvqty'),('lvqty',resolution)])\n",
      "        req = requests.get('http://192.168.0.10/exec_takemisc.cgi',headers=self.headers,params=params)\n",
      "        if req.status_code == 200 and (xmltodict.parse(req.text)['result'] == 'OK'):\n",
      "            print 'OK'\n",
      "        else:\n",
      "            print 'Failed TCP/IP error %i, response %s' % (req.status_code,req.text)\n",
      "            return False\n",
      "        \n",
      "        \n",
      "        \n",
      "        print 'Camera live view start:',\n",
      "        params = OrderedDict([('com','startliveview'),('port',self.lvPort)])\n",
      "        req = requests.get('http://192.168.0.10/exec_takemisc.cgi',headers=self.headers,params=params)\n",
      "        if req.status_code == 200:\n",
      "            print 'OK'\n",
      "        else:\n",
      "            print 'Failed'\n",
      "            return False\n",
      "        \n",
      "        \n",
      "        data = self.lvSocket.recvfrom(128)\n",
      "        if len(data) > 0:\n",
      "            return True\n",
      "        else:\n",
      "            return False\n",
      "        \n",
      "            \n",
      "        \n",
      "    def takePicture(self):\n",
      "        print 'Camera picture acquisition:',\n",
      "        params = OrderedDict([('com','newstarttake')])\n",
      "        req = requests.get('http://192.168.0.10/exec_takemotion.cgi',headers=self.headers,params=params)\n",
      "                \n",
      "        if req.status_code == 200:\n",
      "            print 'OK'    \n",
      "        else:\n",
      "            print 'Failed, TCP/IP error %i' % req.status_code\n",
      "        \n",
      "        \n",
      "        eventIDs = [101,107] \n",
      "        ind, event = self.waitForEvent([101,107])\n",
      "        for (i,j,k) in zip(eventIDs,ind,event):\n",
      "            print i,j,k\n",
      "        \n",
      "        \n",
      "    def stopPreview(self):\n",
      "        print 'Camera live view stop:',\n",
      "        params = OrderedDict([('com','stopliveview')])\n",
      "        req = requests.get('http://192.168.0.10/exec_takemisc.cgi',headers=self.headers,params=params)\n",
      "        \n",
      "        if req.status_code == 200:\n",
      "            print 'OK'\n",
      "        else:\n",
      "            print 'Failed'\n",
      "        \n",
      "        \n",
      "        self.lvSocket.close()\n",
      "        "
     ],
     "language": "python",
     "metadata": {},
     "outputs": [],
     "prompt_number": 134
    },
    {
     "cell_type": "code",
     "collapsed": false,
     "input": [
      "cam = OlympusAir()\n",
      "cam.commInterface()"
     ],
     "language": "python",
     "metadata": {},
     "outputs": []
    },
    {
     "cell_type": "code",
     "collapsed": false,
     "input": [
      "tst = cam.getState()\n",
      "print tst"
     ],
     "language": "python",
     "metadata": {},
     "outputs": []
    },
    {
     "cell_type": "code",
     "collapsed": false,
     "input": [
      "fileList = cam.getFilesList()"
     ],
     "language": "python",
     "metadata": {},
     "outputs": []
    },
    {
     "cell_type": "code",
     "collapsed": false,
     "input": [
      "cam.switchMode('standalone')\n",
      "cam.switchMode('rec')"
     ],
     "language": "python",
     "metadata": {},
     "outputs": []
    },
    {
     "cell_type": "code",
     "collapsed": false,
     "input": [
      "cam.getProperty('FOCUS_STILL')\n",
      "cam.setProperty('FOCUS_STILL','FOCUS_MF')\n",
      "cam.getProperty('FOCUS_STILL')\n",
      "\n",
      "cam.getProperty('RAW')\n",
      "cam.setProperty('RAW','ON')\n",
      "cam.getProperty('RAW')\n",
      "\n",
      "cam.getProperty('TAKE_DRIVE')\n",
      "cam.setProperty('TAKE_DRIVE','DRIVE_NORMAL')\n",
      "cam.getProperty('TAKE_DRIVE')\n",
      "\n",
      "cam.getProperty('TAKEMODE')\n",
      "cam.setProperty('TAKEMODE','P')\n",
      "cam.getProperty('TAKEMODE')\n",
      "\n",
      "cam.getProperty('DESTINATION_FILE')\n",
      "cam.setProperty('DESTINATION_FILE','DESTINATION_FILE_MEDIA')\n",
      "cam.getProperty('DESTINATION_FILE')\n",
      "\n",
      "cam.setZoom(20)"
     ],
     "language": "python",
     "metadata": {},
     "outputs": []
    },
    {
     "cell_type": "code",
     "collapsed": false,
     "input": [
      "cam.startPreview()"
     ],
     "language": "python",
     "metadata": {},
     "outputs": []
    },
    {
     "cell_type": "code",
     "collapsed": false,
     "input": [
      "try:\n",
      "    cam.takePicture()\n",
      "except requests.ConnectionError as err:\n",
      "    print 'Connection error', err"
     ],
     "language": "python",
     "metadata": {},
     "outputs": []
    },
    {
     "cell_type": "code",
     "collapsed": false,
     "input": [
      "cam.stopPreview()"
     ],
     "language": "python",
     "metadata": {},
     "outputs": [
      {
       "ename": "AttributeError",
       "evalue": "OlympusAir instance has no attribute 'lvSocket'",
       "output_type": "pyerr",
       "traceback": [
        "\u001b[0;31m---------------------------------------------------------------------------\u001b[0m\n\u001b[0;31mAttributeError\u001b[0m                            Traceback (most recent call last)",
        "\u001b[0;32m<ipython-input-128-3a418d44bcdd>\u001b[0m in \u001b[0;36m<module>\u001b[0;34m()\u001b[0m\n\u001b[0;32m----> 1\u001b[0;31m \u001b[0mcam\u001b[0m\u001b[0;34m.\u001b[0m\u001b[0mstopPreview\u001b[0m\u001b[0;34m(\u001b[0m\u001b[0;34m)\u001b[0m\u001b[0;34m\u001b[0m\u001b[0m\n\u001b[0m",
        "\u001b[0;32m<ipython-input-122-b99edc78db3e>\u001b[0m in \u001b[0;36mstopPreview\u001b[0;34m(self)\u001b[0m\n\u001b[1;32m    427\u001b[0m \u001b[0;34m\u001b[0m\u001b[0m\n\u001b[1;32m    428\u001b[0m \u001b[0;34m\u001b[0m\u001b[0m\n\u001b[0;32m--> 429\u001b[0;31m         \u001b[0mself\u001b[0m\u001b[0;34m.\u001b[0m\u001b[0mlvSocket\u001b[0m\u001b[0;34m.\u001b[0m\u001b[0mclose\u001b[0m\u001b[0;34m(\u001b[0m\u001b[0;34m)\u001b[0m\u001b[0;34m\u001b[0m\u001b[0m\n\u001b[0m\u001b[1;32m    430\u001b[0m \u001b[0;34m\u001b[0m\u001b[0m\n",
        "\u001b[0;31mAttributeError\u001b[0m: OlympusAir instance has no attribute 'lvSocket'"
       ]
      },
      {
       "output_type": "stream",
       "stream": "stdout",
       "text": [
        "Camera live view stop: OK\n"
       ]
      }
     ],
     "prompt_number": 128
    },
    {
     "cell_type": "code",
     "collapsed": false,
     "input": [
      "cam.disconnect()"
     ],
     "language": "python",
     "metadata": {},
     "outputs": [
      {
       "output_type": "stream",
       "stream": "stdout",
       "text": [
        "Disconnecting camera: "
       ]
      },
      {
       "output_type": "stream",
       "stream": "stdout",
       "text": [
        "OK\n"
       ]
      }
     ],
     "prompt_number": 136
    },
    {
     "cell_type": "code",
     "collapsed": false,
     "input": [
      "a, b = cam.getLatestFile()"
     ],
     "language": "python",
     "metadata": {},
     "outputs": []
    },
    {
     "cell_type": "code",
     "collapsed": false,
     "input": [
      "# print a\n",
      "fle = open('HR.jpg','w')\n",
      "fle.write(a)\n",
      "\n",
      "fle2 = open('HR.ORF','w')\n",
      "fle2.write(b)\n"
     ],
     "language": "python",
     "metadata": {},
     "outputs": []
    },
    {
     "cell_type": "code",
     "collapsed": false,
     "input": [
      "cam = OlympusAir()\n",
      "cam.commInterface()\n",
      "cam.switchMode('rec')\n",
      "cam.setProperty('FOCUS_STILL','FOCUS_SAF')\n",
      "cam.setProperty('RAW','ON')\n",
      "cam.setProperty('TAKE_DRIVE','DRIVE_NORMAL')\n",
      "cam.setProperty('TAKEMODE','P')\n",
      "cam.setProperty('DESTINATION_FILE','DESTINATION_FILE_MEDIA')\n",
      "cam.setZoom(20)\n",
      "\n",
      " \n",
      "dirPath = './' + datetime.datetime.now().strftime('%Y-%m-%d_%H-%M-%S')\n",
      "os.mkdir(dirPath)\n",
      "\n",
      "cam.startPreview()\n",
      "\n",
      "for i in range(10):\n",
      "    cam.takePicture()\n",
      "    jpeg, raw = cam.getLatestFile()\n",
      "    \n",
      "    jpegFile = open(dirPath + '/' + 'LED%02i.jpg' % i,'w')\n",
      "    jpegFile.write(jpeg)\n",
      "    \n",
      "    rawFile = open(dirPath + '/' + 'LED%02i.orf' % i,'w')\n",
      "    rawFile.write(jpeg)\n",
      "\n",
      "cam.stopPreview()\n",
      "cam.disconnect()"
     ],
     "language": "python",
     "metadata": {},
     "outputs": [
      {
       "output_type": "stream",
       "stream": "stdout",
       "text": [
        "Camera init: OK\n",
        "Establishing camera event notification: OK\n",
        "Establishing event socket, port 65000:  Camera communication mode change to wifi: "
       ]
      },
      {
       "output_type": "stream",
       "stream": "stdout",
       "text": [
        "OK\n",
        "Camera mode change to rec: OK\n",
        "True appID: 2; eventID: 201; data: \n",
        "Camera property FOCUS_STILL read "
       ]
      },
      {
       "output_type": "stream",
       "stream": "stdout",
       "text": [
        "FOCUS_SAF (FOCUS_SAF FOCUS_MF): OK\n",
        "Camera property FOCUS_STILL change to FOCUS_SAF: Not needed\n",
        "Camera property RAW read "
       ]
      },
      {
       "output_type": "stream",
       "stream": "stdout",
       "text": [
        "ON (OFF ON): OK\n",
        "Camera property RAW change to ON: Not needed\n",
        "Camera property TAKE_DRIVE read DRIVE_NORMAL (DRIVE_NORMAL DRIVE_CONTINUE): OK\n",
        "Camera property TAKE_DRIVE change to DRIVE_NORMAL: Not needed\n",
        "Camera property TAKEMODE read "
       ]
      },
      {
       "output_type": "stream",
       "stream": "stdout",
       "text": [
        "P (iAuto P A S M ART movie Genius): OK\n",
        "Camera property TAKEMODE change to P: Not needed\n",
        "Camera property DESTINATION_FILE read DESTINATION_FILE_MEDIA (DESTINATION_FILE_MEDIA): OK\n",
        "Camera property DESTINATION_FILE change to DESTINATION_FILE_MEDIA: Not needed\n",
        "Camera zoom set to 20: "
       ]
      },
      {
       "output_type": "stream",
       "stream": "stdout",
       "text": [
        "OK\n",
        "Establishing liveview socket 65001: OK\n",
        "Camera live view resolution change to 0320x0240: "
       ]
      },
      {
       "output_type": "stream",
       "stream": "stdout",
       "text": [
        "OK\n",
        "Camera live view start: OK\n",
        "Camera picture acquisition:"
       ]
      },
      {
       "output_type": "stream",
       "stream": "stdout",
       "text": [
        " OK\n",
        "101"
       ]
      },
      {
       "output_type": "stream",
       "stream": "stdout",
       "text": [
        " True appID: 2; eventID: 101; data: <?xml version=\"1.0\"?><root><result>ok</result><location>0231x0071</location><size>0031x0021</size></root>\n",
        "107 True appID: 2; eventID: 107; data: \n",
        "[(/DCIM/100OLYMP, PA210026.ORF, 16692505, 0, 2015-10-21_12-01-04), (/DCIM/100OLYMP, PA210026.JPG, 7739273, 0, 2015-10-21_12-01-04), (/DCIM/100OLYMP, PA210025.ORF, 17332881, 0, 2015-10-21_10-02-24), (/DCIM/100OLYMP, PA210025.JPG, 7985966, 0, 2015-10-21_10-02-24)]"
       ]
      },
      {
       "output_type": "stream",
       "stream": "stdout",
       "text": [
        "\n",
        "/DCIM/100OLYMP/PA210026.ORF\n",
        "200"
       ]
      },
      {
       "output_type": "stream",
       "stream": "stdout",
       "text": [
        "\n",
        "Getting second format\n",
        "/DCIM/100OLYMP/PA210026.JPG\n",
        "200"
       ]
      },
      {
       "output_type": "stream",
       "stream": "stdout",
       "text": [
        "\n",
        "Camera picture acquisition:"
       ]
      },
      {
       "output_type": "stream",
       "stream": "stdout",
       "text": [
        " OK\n",
        "101"
       ]
      },
      {
       "output_type": "stream",
       "stream": "stdout",
       "text": [
        " True appID: 2; eventID: 101; data: <?xml version=\"1.0\"?><root><result>ok</result><location>0173x0128</location><size>0031x0021</size></root>\n",
        "107 True appID: 2; eventID: 107; data: \n",
        "[(/DCIM/100OLYMP, PA210027.ORF, 16656453, 0, 2015-10-21_12-03-04), (/DCIM/100OLYMP, PA210027.JPG, 7639935, 0, 2015-10-21_12-03-04), (/DCIM/100OLYMP, PA210026.ORF, 16692505, 0, 2015-10-21_12-01-04), (/DCIM/100OLYMP, PA210026.JPG, 7739273, 0, 2015-10-21_12-01-04), (/DCIM/100OLYMP, PA210025.ORF, 17332881, 0, 2015-10-21_10-02-24), (/DCIM/100OLYMP, PA210025.JPG, 7985966, 0, 2015-10-21_10-02-24)]"
       ]
      },
      {
       "output_type": "stream",
       "stream": "stdout",
       "text": [
        "\n",
        "/DCIM/100OLYMP/PA210027.ORF\n",
        "200"
       ]
      },
      {
       "output_type": "stream",
       "stream": "stdout",
       "text": [
        "\n",
        "Getting second format\n",
        "/DCIM/100OLYMP/PA210027.JPG\n",
        "200"
       ]
      },
      {
       "output_type": "stream",
       "stream": "stdout",
       "text": [
        "\n",
        "Camera picture acquisition:"
       ]
      },
      {
       "output_type": "stream",
       "stream": "stdout",
       "text": [
        " OK\n",
        "101"
       ]
      },
      {
       "output_type": "stream",
       "stream": "stdout",
       "text": [
        " True appID: 2; eventID: 101; data: <?xml version=\"1.0\"?><root><result>ok</result><location>0173x0128</location><size>0031x0021</size></root>\n",
        "107 True appID: 2; eventID: 107; data: \n",
        "[(/DCIM/100OLYMP, PA210028.ORF, 16630413, 0, 2015-10-21_12-03-54), (/DCIM/100OLYMP, PA210028.JPG, 7685625, 0, 2015-10-21_12-03-54), (/DCIM/100OLYMP, PA210027.ORF, 16656453, 0, 2015-10-21_12-03-04), (/DCIM/100OLYMP, PA210027.JPG, 7639935, 0, 2015-10-21_12-03-04), (/DCIM/100OLYMP, PA210026.ORF, 16692505, 0, 2015-10-21_12-01-04), (/DCIM/100OLYMP, PA210026.JPG, 7739273, 0, 2015-10-21_12-01-04), (/DCIM/100OLYMP, PA210025.ORF, 17332881, 0, 2015-10-21_10-02-24), (/DCIM/100OLYMP, PA210025.JPG, 7985966, 0, 2015-10-21_10-02-24)]"
       ]
      },
      {
       "output_type": "stream",
       "stream": "stdout",
       "text": [
        "\n",
        "/DCIM/100OLYMP/PA210028.ORF\n",
        "200"
       ]
      },
      {
       "output_type": "stream",
       "stream": "stdout",
       "text": [
        "\n",
        "Getting second format\n",
        "/DCIM/100OLYMP/PA210028.JPG\n",
        "200"
       ]
      },
      {
       "output_type": "stream",
       "stream": "stdout",
       "text": [
        "\n",
        "Camera picture acquisition:"
       ]
      },
      {
       "output_type": "stream",
       "stream": "stdout",
       "text": [
        " OK\n",
        "101"
       ]
      },
      {
       "output_type": "stream",
       "stream": "stdout",
       "text": [
        " True appID: 2; eventID: 101; data: <?xml version=\"1.0\"?><root><result>ok</result><location>0173x0128</location><size>0031x0021</size></root>\n",
        "107 True appID: 2; eventID: 107; data: \n",
        "[(/DCIM/100OLYMP, PA210029.ORF, 16666550, 0, 2015-10-21_12-00-44), (/DCIM/100OLYMP, PA210029.JPG, 7683550, 0, 2015-10-21_12-00-44), (/DCIM/100OLYMP, PA210028.ORF, 16630413, 0, 2015-10-21_12-03-54), (/DCIM/100OLYMP, PA210028.JPG, 7685625, 0, 2015-10-21_12-03-54), (/DCIM/100OLYMP, PA210027.ORF, 16656453, 0, 2015-10-21_12-03-04), (/DCIM/100OLYMP, PA210027.JPG, 7639935, 0, 2015-10-21_12-03-04), (/DCIM/100OLYMP, PA210026.ORF, 16692505, 0, 2015-10-21_12-01-04), (/DCIM/100OLYMP, PA210026.JPG, 7739273, 0, 2015-10-21_12-01-04), (/DCIM/100OLYMP, PA210025.ORF, 17332881, 0, 2015-10-21_10-02-24), (/DCIM/100OLYMP, PA210025.JPG, 7985966, 0, 2015-10-21_10-02-24)]"
       ]
      },
      {
       "output_type": "stream",
       "stream": "stdout",
       "text": [
        "\n",
        "/DCIM/100OLYMP/PA210029.ORF\n",
        "200"
       ]
      },
      {
       "output_type": "stream",
       "stream": "stdout",
       "text": [
        "\n",
        "Getting second format\n",
        "/DCIM/100OLYMP/PA210029.JPG\n",
        "200"
       ]
      },
      {
       "output_type": "stream",
       "stream": "stdout",
       "text": [
        "\n",
        "Camera picture acquisition:"
       ]
      },
      {
       "output_type": "stream",
       "stream": "stdout",
       "text": [
        " OK\n",
        "101"
       ]
      },
      {
       "output_type": "stream",
       "stream": "stdout",
       "text": [
        " True appID: 2; eventID: 101; data: <?xml version=\"1.0\"?><root><result>ok</result><location>0173x0128</location><size>0031x0021</size></root>\n",
        "107 True appID: 2; eventID: 107; data: \n",
        "[(/DCIM/100OLYMP, PA210030.ORF, 16666053, 0, 2015-10-21_12-01-34), (/DCIM/100OLYMP, PA210030.JPG, 7700201, 0, 2015-10-21_12-01-34), (/DCIM/100OLYMP, PA210029.ORF, 16666550, 0, 2015-10-21_12-00-44), (/DCIM/100OLYMP, PA210029.JPG, 7683550, 0, 2015-10-21_12-00-44), (/DCIM/100OLYMP, PA210028.ORF, 16630413, 0, 2015-10-21_12-03-54), (/DCIM/100OLYMP, PA210028.JPG, 7685625, 0, 2015-10-21_12-03-54), (/DCIM/100OLYMP, PA210027.ORF, 16656453, 0, 2015-10-21_12-03-04), (/DCIM/100OLYMP, PA210027.JPG, 7639935, 0, 2015-10-21_12-03-04), (/DCIM/100OLYMP, PA210026.ORF, 16692505, 0, 2015-10-21_12-01-04), (/DCIM/100OLYMP, PA210026.JPG, 7739273, 0, 2015-10-21_12-01-04), (/DCIM/100OLYMP, PA210025.ORF, 17332881, 0, 2015-10-21_10-02-24), (/DCIM/100OLYMP, PA210025.JPG, 7985966, 0, 2015-10-21_10-02-24)]"
       ]
      },
      {
       "output_type": "stream",
       "stream": "stdout",
       "text": [
        "\n",
        "/DCIM/100OLYMP/PA210030.ORF\n",
        "200"
       ]
      },
      {
       "output_type": "stream",
       "stream": "stdout",
       "text": [
        "\n",
        "Getting second format\n",
        "/DCIM/100OLYMP/PA210030.JPG\n",
        "200"
       ]
      },
      {
       "output_type": "stream",
       "stream": "stdout",
       "text": [
        "\n",
        "Camera picture acquisition:"
       ]
      },
      {
       "output_type": "stream",
       "stream": "stdout",
       "text": [
        " OK\n",
        "101"
       ]
      },
      {
       "output_type": "stream",
       "stream": "stdout",
       "text": [
        " True appID: 2; eventID: 101; data: <?xml version=\"1.0\"?><root><result>ok</result><location>0173x0128</location><size>0031x0021</size></root>\n",
        "107 True appID: 2; eventID: 107; data: \n",
        "[(/DCIM/100OLYMP, PA210031.ORF, 16624567, 0, 2015-10-21_12-02-24), (/DCIM/100OLYMP, PA210031.JPG, 7703889, 0, 2015-10-21_12-02-24), (/DCIM/100OLYMP, PA210030.ORF, 16666053, 0, 2015-10-21_12-01-34), (/DCIM/100OLYMP, PA210030.JPG, 7700201, 0, 2015-10-21_12-01-34), (/DCIM/100OLYMP, PA210029.ORF, 16666550, 0, 2015-10-21_12-00-44), (/DCIM/100OLYMP, PA210029.JPG, 7683550, 0, 2015-10-21_12-00-44), (/DCIM/100OLYMP, PA210028.ORF, 16630413, 0, 2015-10-21_12-03-54), (/DCIM/100OLYMP, PA210028.JPG, 7685625, 0, 2015-10-21_12-03-54), (/DCIM/100OLYMP, PA210027.ORF, 16656453, 0, 2015-10-21_12-03-04), (/DCIM/100OLYMP, PA210027.JPG, 7639935, 0, 2015-10-21_12-03-04), (/DCIM/100OLYMP, PA210026.ORF, 16692505, 0, 2015-10-21_12-01-04), (/DCIM/100OLYMP, PA210026.JPG, 7739273, 0, 2015-10-21_12-01-04), (/DCIM/100OLYMP, PA210025.ORF, 17332881, 0, 2015-10-21_10-02-24), (/DCIM/100OLYMP, PA210025.JPG, 7985966, 0, 2015-10-21_10-02-24)]"
       ]
      },
      {
       "output_type": "stream",
       "stream": "stdout",
       "text": [
        "\n",
        "/DCIM/100OLYMP/PA210031.ORF\n",
        "200"
       ]
      },
      {
       "output_type": "stream",
       "stream": "stdout",
       "text": [
        "\n",
        "Getting second format\n",
        "/DCIM/100OLYMP/PA210031.JPG\n",
        "200"
       ]
      },
      {
       "output_type": "stream",
       "stream": "stdout",
       "text": [
        "\n",
        "Camera picture acquisition:"
       ]
      },
      {
       "output_type": "stream",
       "stream": "stdout",
       "text": [
        " OK\n",
        "101"
       ]
      },
      {
       "output_type": "stream",
       "stream": "stdout",
       "text": [
        " True appID: 2; eventID: 101; data: <?xml version=\"1.0\"?><root><result>ok</result><location>0202x0109</location><size>0031x0021</size></root>\n",
        "107 True appID: 2; eventID: 107; data: \n",
        "[(/DCIM/100OLYMP, PA210032.ORF, 16670624, 0, 2015-10-21_12-03-14), (/DCIM/100OLYMP, PA210032.JPG, 7691721, 0, 2015-10-21_12-03-14), (/DCIM/100OLYMP, PA210031.ORF, 16624567, 0, 2015-10-21_12-02-24), (/DCIM/100OLYMP, PA210031.JPG, 7703889, 0, 2015-10-21_12-02-24), (/DCIM/100OLYMP, PA210030.ORF, 16666053, 0, 2015-10-21_12-01-34), (/DCIM/100OLYMP, PA210030.JPG, 7700201, 0, 2015-10-21_12-01-34), (/DCIM/100OLYMP, PA210029.ORF, 16666550, 0, 2015-10-21_12-00-44), (/DCIM/100OLYMP, PA210029.JPG, 7683550, 0, 2015-10-21_12-00-44), (/DCIM/100OLYMP, PA210028.ORF, 16630413, 0, 2015-10-21_12-03-54), (/DCIM/100OLYMP, PA210028.JPG, 7685625, 0, 2015-10-21_12-03-54), (/DCIM/100OLYMP, PA210027.ORF, 16656453, 0, 2015-10-21_12-03-04), (/DCIM/100OLYMP, PA210027.JPG, 7639935, 0, 2015-10-21_12-03-04), (/DCIM/100OLYMP, PA210026.ORF, 16692505, 0, 2015-10-21_12-01-04), (/DCIM/100OLYMP, PA210026.JPG, 7739273, 0, 2015-10-21_12-01-04), (/DCIM/100OLYMP, PA210025.ORF, 17332881, 0, 2015-10-21_10-02-24), (/DCIM/100OLYMP, PA210025.JPG, 7985966, 0, 2015-10-21_10-02-24)]"
       ]
      },
      {
       "output_type": "stream",
       "stream": "stdout",
       "text": [
        "\n",
        "/DCIM/100OLYMP/PA210032.ORF\n",
        "200"
       ]
      },
      {
       "output_type": "stream",
       "stream": "stdout",
       "text": [
        "\n",
        "Getting second format\n",
        "/DCIM/100OLYMP/PA210032.JPG\n",
        "200"
       ]
      },
      {
       "output_type": "stream",
       "stream": "stdout",
       "text": [
        "\n",
        "Camera picture acquisition:"
       ]
      },
      {
       "output_type": "stream",
       "stream": "stdout",
       "text": [
        " OK\n",
        "101"
       ]
      },
      {
       "output_type": "stream",
       "stream": "stdout",
       "text": [
        " True appID: 2; eventID: 101; data: <?xml version=\"1.0\"?><root><result>ok</result><location>0173x0128</location><size>0031x0021</size></root>\n",
        "107 True appID: 2; eventID: 107; data: \n",
        "[(/DCIM/100OLYMP, PA210033.ORF, 16652218, 0, 2015-10-21_12-00-04), (/DCIM/100OLYMP, PA210033.JPG, 7799179, 0, 2015-10-21_12-00-04), (/DCIM/100OLYMP, PA210032.ORF, 16670624, 0, 2015-10-21_12-03-14), (/DCIM/100OLYMP, PA210032.JPG, 7691721, 0, 2015-10-21_12-03-14), (/DCIM/100OLYMP, PA210031.ORF, 16624567, 0, 2015-10-21_12-02-24), (/DCIM/100OLYMP, PA210031.JPG, 7703889, 0, 2015-10-21_12-02-24), (/DCIM/100OLYMP, PA210030.ORF, 16666053, 0, 2015-10-21_12-01-34), (/DCIM/100OLYMP, PA210030.JPG, 7700201, 0, 2015-10-21_12-01-34), (/DCIM/100OLYMP, PA210029.ORF, 16666550, 0, 2015-10-21_12-00-44), (/DCIM/100OLYMP, PA210029.JPG, 7683550, 0, 2015-10-21_12-00-44), (/DCIM/100OLYMP, PA210028.ORF, 16630413, 0, 2015-10-21_12-03-54), (/DCIM/100OLYMP, PA210028.JPG, 7685625, 0, 2015-10-21_12-03-54), (/DCIM/100OLYMP, PA210027.ORF, 16656453, 0, 2015-10-21_12-03-04), (/DCIM/100OLYMP, PA210027.JPG, 7639935, 0, 2015-10-21_12-03-04), (/DCIM/100OLYMP, PA210026.ORF, 16692505, 0, 2015-10-21_12-01-04), (/DCIM/100OLYMP, PA210026.JPG, 7739273, 0, 2015-10-21_12-01-04), (/DCIM/100OLYMP, PA210025.ORF, 17332881, 0, 2015-10-21_10-02-24), (/DCIM/100OLYMP, PA210025.JPG, 7985966, 0, 2015-10-21_10-02-24)]"
       ]
      },
      {
       "output_type": "stream",
       "stream": "stdout",
       "text": [
        "\n",
        "/DCIM/100OLYMP/PA210033.ORF\n",
        "200"
       ]
      },
      {
       "output_type": "stream",
       "stream": "stdout",
       "text": [
        "\n",
        "Getting second format\n",
        "/DCIM/100OLYMP/PA210033.JPG\n",
        "200"
       ]
      },
      {
       "output_type": "stream",
       "stream": "stdout",
       "text": [
        "\n",
        "Camera picture acquisition:"
       ]
      },
      {
       "output_type": "stream",
       "stream": "stdout",
       "text": [
        " OK\n",
        "101"
       ]
      },
      {
       "output_type": "stream",
       "stream": "stdout",
       "text": [
        " True appID: 2; eventID: 101; data: <?xml version=\"1.0\"?><root><result>ok</result><location>0173x0128</location><size>0031x0021</size></root>\n",
        "107 True appID: 2; eventID: 107; data: \n",
        "[(/DCIM/100OLYMP, PA210034.ORF, 16628126, 0, 2015-10-21_12-00-54), (/DCIM/100OLYMP, PA210034.JPG, 7717263, 0, 2015-10-21_12-00-54), (/DCIM/100OLYMP, PA210033.ORF, 16652218, 0, 2015-10-21_12-00-04), (/DCIM/100OLYMP, PA210033.JPG, 7799179, 0, 2015-10-21_12-00-04), (/DCIM/100OLYMP, PA210032.ORF, 16670624, 0, 2015-10-21_12-03-14), (/DCIM/100OLYMP, PA210032.JPG, 7691721, 0, 2015-10-21_12-03-14), (/DCIM/100OLYMP, PA210031.ORF, 16624567, 0, 2015-10-21_12-02-24), (/DCIM/100OLYMP, PA210031.JPG, 7703889, 0, 2015-10-21_12-02-24), (/DCIM/100OLYMP, PA210030.ORF, 16666053, 0, 2015-10-21_12-01-34), (/DCIM/100OLYMP, PA210030.JPG, 7700201, 0, 2015-10-21_12-01-34), (/DCIM/100OLYMP, PA210029.ORF, 16666550, 0, 2015-10-21_12-00-44), (/DCIM/100OLYMP, PA210029.JPG, 7683550, 0, 2015-10-21_12-00-44), (/DCIM/100OLYMP, PA210028.ORF, 16630413, 0, 2015-10-21_12-03-54), (/DCIM/100OLYMP, PA210028.JPG, 7685625, 0, 2015-10-21_12-03-54), (/DCIM/100OLYMP, PA210027.ORF, 16656453, 0, 2015-10-21_12-03-04), (/DCIM/100OLYMP, PA210027.JPG, 7639935, 0, 2015-10-21_12-03-04), (/DCIM/100OLYMP, PA210026.ORF, 16692505, 0, 2015-10-21_12-01-04), (/DCIM/100OLYMP, PA210026.JPG, 7739273, 0, 2015-10-21_12-01-04), (/DCIM/100OLYMP, PA210025.ORF, 17332881, 0, 2015-10-21_10-02-24), (/DCIM/100OLYMP, PA210025.JPG, 7985966, 0, 2015-10-21_10-02-24)]"
       ]
      },
      {
       "output_type": "stream",
       "stream": "stdout",
       "text": [
        "\n",
        "/DCIM/100OLYMP/PA210034.ORF\n",
        "200"
       ]
      },
      {
       "output_type": "stream",
       "stream": "stdout",
       "text": [
        "\n",
        "Getting second format\n",
        "/DCIM/100OLYMP/PA210034.JPG\n",
        "200"
       ]
      },
      {
       "output_type": "stream",
       "stream": "stdout",
       "text": [
        "\n",
        "Camera picture acquisition:"
       ]
      },
      {
       "output_type": "stream",
       "stream": "stdout",
       "text": [
        " OK\n",
        "101"
       ]
      },
      {
       "output_type": "stream",
       "stream": "stdout",
       "text": [
        " True appID: 2; eventID: 101; data: <?xml version=\"1.0\"?><root><result>ok</result><location>0173x0128</location><size>0031x0021</size></root>\n",
        "107 True appID: 2; eventID: 107; data: \n",
        "[(/DCIM/100OLYMP, PA210035.ORF, 16629159, 0, 2015-10-21_12-01-44), (/DCIM/100OLYMP, PA210035.JPG, 7717560, 0, 2015-10-21_12-01-44), (/DCIM/100OLYMP, PA210034.ORF, 16628126, 0, 2015-10-21_12-00-54), (/DCIM/100OLYMP, PA210034.JPG, 7717263, 0, 2015-10-21_12-00-54), (/DCIM/100OLYMP, PA210033.ORF, 16652218, 0, 2015-10-21_12-00-04), (/DCIM/100OLYMP, PA210033.JPG, 7799179, 0, 2015-10-21_12-00-04), (/DCIM/100OLYMP, PA210032.ORF, 16670624, 0, 2015-10-21_12-03-14), (/DCIM/100OLYMP, PA210032.JPG, 7691721, 0, 2015-10-21_12-03-14), (/DCIM/100OLYMP, PA210031.ORF, 16624567, 0, 2015-10-21_12-02-24), (/DCIM/100OLYMP, PA210031.JPG, 7703889, 0, 2015-10-21_12-02-24), (/DCIM/100OLYMP, PA210030.ORF, 16666053, 0, 2015-10-21_12-01-34), (/DCIM/100OLYMP, PA210030.JPG, 7700201, 0, 2015-10-21_12-01-34), (/DCIM/100OLYMP, PA210029.ORF, 16666550, 0, 2015-10-21_12-00-44), (/DCIM/100OLYMP, PA210029.JPG, 7683550, 0, 2015-10-21_12-00-44), (/DCIM/100OLYMP, PA210028.ORF, 16630413, 0, 2015-10-21_12-03-54), (/DCIM/100OLYMP, PA210028.JPG, 7685625, 0, 2015-10-21_12-03-54), (/DCIM/100OLYMP, PA210027.ORF, 16656453, 0, 2015-10-21_12-03-04), (/DCIM/100OLYMP, PA210027.JPG, 7639935, 0, 2015-10-21_12-03-04), (/DCIM/100OLYMP, PA210026.ORF, 16692505, 0, 2015-10-21_12-01-04), (/DCIM/100OLYMP, PA210026.JPG, 7739273, 0, 2015-10-21_12-01-04), (/DCIM/100OLYMP, PA210025.ORF, 17332881, 0, 2015-10-21_10-02-24), (/DCIM/100OLYMP, PA210025.JPG, 7985966, 0, 2015-10-21_10-02-24)]"
       ]
      },
      {
       "output_type": "stream",
       "stream": "stdout",
       "text": [
        "\n",
        "/DCIM/100OLYMP/PA210035.ORF\n",
        "200"
       ]
      },
      {
       "output_type": "stream",
       "stream": "stdout",
       "text": [
        "\n",
        "Getting second format\n",
        "/DCIM/100OLYMP/PA210035.JPG\n",
        "200"
       ]
      },
      {
       "output_type": "stream",
       "stream": "stdout",
       "text": [
        "\n",
        "Camera live view stop:"
       ]
      },
      {
       "output_type": "stream",
       "stream": "stdout",
       "text": [
        " OK\n"
       ]
      },
      {
       "output_type": "pyout",
       "prompt_number": 137,
       "text": [
        "<bound method OlympusAir.disconnect of <__main__.OlympusAir instance at 0x5cdf080>>"
       ]
      }
     ],
     "prompt_number": 137
    },
    {
     "cell_type": "code",
     "collapsed": false,
     "input": [],
     "language": "python",
     "metadata": {},
     "outputs": []
    }
   ],
   "metadata": {}
  }
 ]
}