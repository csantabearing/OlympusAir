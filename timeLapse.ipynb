{
 "cells": [
  {
   "cell_type": "code",
   "execution_count": null,
   "metadata": {
    "collapsed": false
   },
   "outputs": [],
   "source": [
    "import olympusair\n",
    "import os\n",
    "import datetime\n",
    "import cv2\n",
    "import sys"
   ]
  },
  {
   "cell_type": "code",
   "execution_count": null,
   "metadata": {
    "collapsed": false,
    "scrolled": true
   },
   "outputs": [],
   "source": [
    "cam = olympusair.Camera()\n",
    "cam.commInterface()\n",
    "\n",
    "print cam\n",
    "\n",
    "\n",
    "cam.switchMode('standalone')\n",
    "cam.switchMode('rec')\n",
    "cam.setProperty('RAW','ON')\n",
    "cam.setProperty('TAKE_DRIVE','DRIVE_NORMAL')\n",
    "cam.setProperty('TAKEMODE','P')\n",
    "cam.setProperty('DESTINATION_FILE','DESTINATION_FILE_MEDIA')\n",
    "\n",
    "cam.switchMode('standalone')\n",
    "cam.switchMode('play')\n",
    "cam.switchMode('playmaintenance')\n",
    "print cam.getFilesList()\n",
    "cam.removeFileProtection()\n",
    "cam.removeAllFiles()\n",
    "print cam.getFilesList()"
   ]
  },
  {
   "cell_type": "code",
   "execution_count": null,
   "metadata": {
    "collapsed": false,
    "scrolled": true
   },
   "outputs": [],
   "source": [
    "cam.switchMode('standalone')\n",
    "cam.switchMode('rec')\n",
    "\n",
    "destPath = os.path.join('/','media','pi','REEF')\n",
    "if not os.path.exists(destPath):\n",
    "    os.makedirs(destPath)\n",
    "\n",
    "elapsed = datetime.datetime.now()\n",
    "\n",
    "while(1):\n",
    "    startTime = elapsed\n",
    "            \n",
    "    print '>> %s: Acquiring a photo' % elapsed.strftime('%Y-%m-%d_%H-%M-%S')\n",
    "        \n",
    "    print cam\n",
    "        \n",
    "    cam.startPreview()\n",
    "    cam.takePicture()\n",
    "    cam.waitOnCardWrite()\n",
    "    cam.stopPreview()\n",
    "            \n",
    "    jpeg, raw = cam.getLatestFile()\n",
    "                        \n",
    "    dirPath =  os.path.join(destPath,elapsed.strftime('%Y-%m-%d_%H-%M-%S'))\n",
    "    if not os.path.exists(dirPath):\n",
    "        os.mkdir(dirPath)\n",
    "    \n",
    "    if jpeg != None:\n",
    "        jpegFile = open(os.path.join(dirPath,'IMG.jpg'),'w')\n",
    "        jpegFile.write(jpeg)\n",
    "        jpegFile.close()\n",
    "    \n",
    "    if raw != None:\n",
    "        rawFile = open(os.path.join(dirPath,'IMG.orf'),'w')\n",
    "        rawFile.write(raw)\n",
    "        rawFile.close()\n",
    "    \n",
    "    # Remove all files\n",
    "    cam.switchMode('standalone')\n",
    "    cam.switchMode('play')\n",
    "    cam.switchMode('playmaintenance')\n",
    "    cam.removeAllFiles()\n",
    "    cam.switchMode('standalone')\n",
    "    cam.switchMode('rec')\n",
    "    \n",
    "    elapsedTimer = datetime.datetime.now()\n",
    "    while (elapsed - startTime) < datetime.timedelta(minutes=5):\n",
    "        elapsed = datetime.datetime.now()\n",
    "        if (elapsed - elapsedTimer) > datetime.timedelta(seconds=1):\n",
    "            td = datetime.timedelta(minutes=5) - (elapsed - startTime)\n",
    "            sys.stdout.write('Next capture in %i seconds \\r' % td.seconds)\n",
    "            sys.stdout.flush()\n",
    "            elapsedTimer = datetime.datetime.now() \n",
    "        \n",
    "        if cv2.waitKey(1) & 0xFF == ord('q'):\n",
    "            break\n",
    "    \n",
    "    \n",
    "        "
   ]
  },
  {
   "cell_type": "code",
   "execution_count": null,
   "metadata": {
    "collapsed": false
   },
   "outputs": [],
   "source": [
    "cam.disconnect()"
   ]
  },
  {
   "cell_type": "code",
   "execution_count": null,
   "metadata": {
    "collapsed": true
   },
   "outputs": [],
   "source": []
  }
 ],
 "metadata": {
  "kernelspec": {
   "display_name": "Python 2",
   "language": "python",
   "name": "python2"
  },
  "language_info": {
   "codemirror_mode": {
    "name": "ipython",
    "version": 2
   },
   "file_extension": ".py",
   "mimetype": "text/x-python",
   "name": "python",
   "nbconvert_exporter": "python",
   "pygments_lexer": "ipython2",
   "version": "2.7.9"
  }
 },
 "nbformat": 4,
 "nbformat_minor": 0
}
