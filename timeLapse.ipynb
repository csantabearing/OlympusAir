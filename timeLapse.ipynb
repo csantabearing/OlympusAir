{
 "cells": [
  {
   "cell_type": "code",
   "execution_count": 21,
   "metadata": {
    "collapsed": false
   },
   "outputs": [
    {
     "name": "stdout",
     "output_type": "stream",
     "text": [
      "\n"
     ]
    }
   ],
   "source": [
    "import olympusair\n",
    "import os\n",
    "import datetime"
   ]
  },
  {
   "cell_type": "code",
   "execution_count": 22,
   "metadata": {
    "collapsed": false
   },
   "outputs": [
    {
     "name": "stdout",
     "output_type": "stream",
     "text": [
      "Camera init: OK\n",
      "Establishing camera event notification: OK\n",
      "Establishing event socket, port 65000:  OK\n",
      "Camera communication mode change to wifi: OK\n",
      "Camera mode change to standalone: OK\n",
      "Camera property RAW read ON (OFF ON): OK\n",
      "Camera property RAW change to ON: Not needed\n",
      "Camera property TAKE_DRIVE read DRIVE_NORMAL (DRIVE_NORMAL DRIVE_CONTINUE): OK\n",
      "Camera property TAKE_DRIVE change to DRIVE_NORMAL: Not needed\n",
      "Camera property TAKEMODE read P (iAuto P A S M ART movie Genius): OK\n",
      "Camera property TAKEMODE change to P: Not needed\n",
      "Camera property DESTINATION_FILE read DESTINATION_FILE_MEDIA (DESTINATION_FILE_MEDIA): OK\n",
      "Camera property DESTINATION_FILE change to DESTINATION_FILE_MEDIA: Not needed\n"
     ]
    }
   ],
   "source": [
    "cam = olympusair.Camera()\n",
    "cam.commInterface()\n",
    "\n",
    "cam.switchMode('standalone')\n",
    "cam.setProperty('RAW','ON')\n",
    "cam.setProperty('TAKE_DRIVE','DRIVE_NORMAL')\n",
    "cam.setProperty('TAKEMODE','P')\n",
    "cam.setProperty('DESTINATION_FILE','DESTINATION_FILE_MEDIA')\n",
    "\n",
    "# cam.switchMode('play')\n",
    "# cam.switchMode('playmaintenance')\n",
    "# print cam.getFilesList()\n",
    "# cam.removeFileProtection()\n",
    "# cam.removeAllFiles()\n",
    "# print cam.getFilesList()\n",
    "# cam.switchMode('standalone')\n",
    "# cam.switchMode('rec')"
   ]
  },
  {
   "cell_type": "code",
   "execution_count": 23,
   "metadata": {
    "collapsed": false,
    "scrolled": true
   },
   "outputs": [
    {
     "name": "stdout",
     "output_type": "stream",
     "text": [
      "Camera mode change to rec: OK\n",
      ">> 2016-07-26_10-25-18: Acquiring a photo\n",
      "Establishing liveview socket 65001: OK\n",
      "Camera live view resolution change to 0320x0240: OK\n",
      "Camera live view start: OK\n",
      "Camera picture acquisition: OK\n",
      "Camera live view stop: OK\n"
     ]
    },
    {
     "ename": "TypeError",
     "evalue": "expected a character buffer object",
     "output_type": "error",
     "traceback": [
      "\u001b[0;31m---------------------------------------------------------------------------\u001b[0m",
      "\u001b[0;31mTypeError\u001b[0m                                 Traceback (most recent call last)",
      "\u001b[0;32m<ipython-input-23-e44e0a151320>\u001b[0m in \u001b[0;36m<module>\u001b[0;34m()\u001b[0m\n\u001b[1;32m     28\u001b[0m \u001b[0;34m\u001b[0m\u001b[0m\n\u001b[1;32m     29\u001b[0m             \u001b[0mrawFile\u001b[0m \u001b[0;34m=\u001b[0m \u001b[0mopen\u001b[0m\u001b[0;34m(\u001b[0m\u001b[0mos\u001b[0m\u001b[0;34m.\u001b[0m\u001b[0mpath\u001b[0m\u001b[0;34m.\u001b[0m\u001b[0mjoin\u001b[0m\u001b[0;34m(\u001b[0m\u001b[0mdirPath\u001b[0m\u001b[0;34m,\u001b[0m\u001b[0;34m'IMG.orf'\u001b[0m\u001b[0;34m)\u001b[0m\u001b[0;34m,\u001b[0m\u001b[0;34m'w'\u001b[0m\u001b[0;34m)\u001b[0m\u001b[0;34m\u001b[0m\u001b[0m\n\u001b[0;32m---> 30\u001b[0;31m             \u001b[0mrawFile\u001b[0m\u001b[0;34m.\u001b[0m\u001b[0mwrite\u001b[0m\u001b[0;34m(\u001b[0m\u001b[0mraw\u001b[0m\u001b[0;34m)\u001b[0m\u001b[0;34m\u001b[0m\u001b[0m\n\u001b[0m\u001b[1;32m     31\u001b[0m \u001b[0;34m\u001b[0m\u001b[0m\n\u001b[1;32m     32\u001b[0m             \u001b[0mclose\u001b[0m\u001b[0;34m(\u001b[0m\u001b[0mjpegFile\u001b[0m\u001b[0;34m)\u001b[0m\u001b[0;34m\u001b[0m\u001b[0m\n",
      "\u001b[0;31mTypeError\u001b[0m: expected a character buffer object"
     ]
    }
   ],
   "source": [
    "cam.switchMode('rec')\n",
    "\n",
    "destPath = os.path.join('/','media','pi','REEF')\n",
    "if not os.path.exists(destPath):\n",
    "    os.makedirs(destPath)\n",
    "\n",
    "startTime = datetime.datetime.now()\n",
    "while(1):\n",
    "        elapsed = datetime.datetime.now()\n",
    "        if elapsed - startTime > datetime.timedelta(seconds=15):\n",
    "            \n",
    "            print '>> %s: Acquiring a photo' % elapsed.strftime('%Y-%m-%d_%H-%M-%S')\n",
    "            \n",
    "            cam.startPreview()\n",
    "            cam.takePicture()\n",
    "            cam.waitOnCardWrite()\n",
    "            cam.stopPreview()\n",
    "            \n",
    "            jpeg, raw = cam.getLatestFile()\n",
    "            \n",
    "            \n",
    "            dirPath =  os.path.join(destPath,elapsed.strftime('%Y-%m-%d_%H-%M-%S'))\n",
    "            if not os.path.exists(dirPath):\n",
    "                os.mkdir(dirPath)\n",
    "            \n",
    "            jpegFile = open(os.path.join(dirPath,'IMG.jpg'),'w')\n",
    "            jpegFile.write(jpeg)\n",
    "            \n",
    "            rawFile = open(os.path.join(dirPath,'IMG.orf'),'w')\n",
    "            rawFile.write(raw)\n",
    "            \n",
    "            close(jpegFile)\n",
    "            close(rawFile)\n",
    "            \n",
    "            startTime = elapsed\n",
    "        "
   ]
  },
  {
   "cell_type": "code",
   "execution_count": null,
   "metadata": {
    "collapsed": false
   },
   "outputs": [],
   "source": [
    "cam.disconnect()"
   ]
  },
  {
   "cell_type": "code",
   "execution_count": 24,
   "metadata": {
    "collapsed": false
   },
   "outputs": [],
   "source": [
    "jpegList, rawList = cam.getFilesList()"
   ]
  },
  {
   "cell_type": "code",
   "execution_count": 25,
   "metadata": {
    "collapsed": false
   },
   "outputs": [
    {
     "name": "stdout",
     "output_type": "stream",
     "text": [
      "[(/DCIM/100OLYMP, P1010001.JPG, 7901543, 0, 2015-01-01_00-00-00), (/DCIM/100OLYMP, P1010002.JPG, 7901531, 0, 2015-01-01_00-00-00), (/DCIM/100OLYMP, P1010003.JPG, 7935527, 0, 2015-01-01_00-00-00), (/DCIM/100OLYMP, P1010004.JPG, 7952821, 0, 2015-01-01_00-00-00), (/DCIM/100OLYMP, P1010005.JPG, 7924516, 0, 2015-01-01_00-00-00), (/DCIM/100OLYMP, P1010006.JPG, 7921988, 0, 2015-01-01_00-00-00), (/DCIM/100OLYMP, P1010007.JPG, 7936191, 0, 2015-01-01_00-00-00), (/DCIM/100OLYMP, P1010008.JPG, 7939435, 0, 2015-01-01_00-00-00), (/DCIM/100OLYMP, P1010009.JPG, 7647782, 0, 2015-01-01_00-00-00), (/DCIM/100OLYMP, P1010010.JPG, 7783291, 0, 2015-01-01_00-00-00), (/DCIM/100OLYMP, P1010011.JPG, 7777048, 0, 2015-01-01_00-00-00), (/DCIM/100OLYMP, P1010012.JPG, 7796193, 0, 2015-01-01_00-00-00), (/DCIM/100OLYMP, P1010013.JPG, 7732942, 0, 2015-01-01_00-00-00), (/DCIM/100OLYMP, P1010014.JPG, 7798510, 0, 2015-01-01_00-00-00)]\n"
     ]
    }
   ],
   "source": [
    "print jpegList"
   ]
  },
  {
   "cell_type": "code",
   "execution_count": 26,
   "metadata": {
    "collapsed": false
   },
   "outputs": [
    {
     "name": "stdout",
     "output_type": "stream",
     "text": [
      "[]\n"
     ]
    }
   ],
   "source": [
    "print rawList"
   ]
  },
  {
   "cell_type": "code",
   "execution_count": null,
   "metadata": {
    "collapsed": true
   },
   "outputs": [],
   "source": [
    "rawList.sort(reverse = True)"
   ]
  },
  {
   "cell_type": "code",
   "execution_count": null,
   "metadata": {
    "collapsed": true
   },
   "outputs": [],
   "source": []
  }
 ],
 "metadata": {
  "kernelspec": {
   "display_name": "Python 2",
   "language": "python",
   "name": "python2"
  },
  "language_info": {
   "codemirror_mode": {
    "name": "ipython",
    "version": 2
   },
   "file_extension": ".py",
   "mimetype": "text/x-python",
   "name": "python",
   "nbconvert_exporter": "python",
   "pygments_lexer": "ipython2",
   "version": "2.7.9"
  }
 },
 "nbformat": 4,
 "nbformat_minor": 0
}
