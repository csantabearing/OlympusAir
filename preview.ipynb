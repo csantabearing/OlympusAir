{
 "cells": [
  {
   "cell_type": "code",
   "execution_count": 1,
   "metadata": {
    "collapsed": false
   },
   "outputs": [],
   "source": [
    "import cv2\n",
    "import olympusair\n",
    "import numpy as np"
   ]
  },
  {
   "cell_type": "code",
   "execution_count": 2,
   "metadata": {
    "collapsed": false
   },
   "outputs": [
    {
     "name": "stdout",
     "output_type": "stream",
     "text": [
      "Camera init: OK\n",
      "Establishing camera event notification: OK\n",
      "Establishing event socket, port 65000:  OK\n"
     ]
    }
   ],
   "source": [
    "cam = olympusair.Camera()"
   ]
  },
  {
   "cell_type": "code",
   "execution_count": 3,
   "metadata": {
    "collapsed": false
   },
   "outputs": [
    {
     "name": "stdout",
     "output_type": "stream",
     "text": [
      "Camera communication mode change to wifi: OK\n"
     ]
    }
   ],
   "source": [
    "cam.commInterface()"
   ]
  },
  {
   "cell_type": "code",
   "execution_count": 4,
   "metadata": {
    "collapsed": false,
    "scrolled": true
   },
   "outputs": [
    {
     "name": "stdout",
     "output_type": "stream",
     "text": [
      "OrderedDict([(u'cardstatus', u'normal'), (u'cardremainnum', u'161'), (u'cardremainsec', u'1380'), (u'cardremainbyte', u'4294967295'), (u'lensmountstatus', u'nolens'), (u'imagingstate', u'normal'), (u'focallength', u'0'), (u'widefocallength', u'0'), (u'telefocallength', u'0'), (u'electriczoom', u'NG'), (u'macrosetting', u'NG')])\n"
     ]
    }
   ],
   "source": [
    "print cam.getState()"
   ]
  },
  {
   "cell_type": "code",
   "execution_count": 5,
   "metadata": {
    "collapsed": false
   },
   "outputs": [
    {
     "name": "stdout",
     "output_type": "stream",
     "text": [
      "Camera mode change to standalone: OK\n"
     ]
    }
   ],
   "source": [
    "cam.switchMode('standalone')"
   ]
  },
  {
   "cell_type": "code",
   "execution_count": 6,
   "metadata": {
    "collapsed": false
   },
   "outputs": [
    {
     "name": "stdout",
     "output_type": "stream",
     "text": [
      "Camera mode change to rec: OK\n"
     ]
    }
   ],
   "source": [
    "cam.switchMode('rec')"
   ]
  },
  {
   "cell_type": "code",
   "execution_count": 7,
   "metadata": {
    "collapsed": false,
    "scrolled": true
   },
   "outputs": [
    {
     "name": "stdout",
     "output_type": "stream",
     "text": [
      "Camera property FOCUS_STILL read FOCUS_MF (FOCUS_MF): OK\n",
      "Camera property FOCUS_STILL read FOCUS_MF (FOCUS_MF): OK\n",
      "Camera property FOCUS_STILL change to FOCUS_MF: Not needed\n",
      "Camera property FOCUS_STILL read FOCUS_MF (FOCUS_MF): OK\n",
      "Camera property RAW read OFF (OFF ON): OK\n",
      "Camera property RAW read OFF (OFF ON): OK\n",
      "Camera property RAW change to ON: OK\n",
      "Camera property RAW read ON (OFF ON): OK\n",
      "Camera property TAKE_DRIVE read DRIVE_NORMAL (DRIVE_NORMAL DRIVE_CONTINUE): OK\n",
      "Camera property TAKE_DRIVE read DRIVE_NORMAL (DRIVE_NORMAL DRIVE_CONTINUE): OK\n",
      "Camera property TAKE_DRIVE change to DRIVE_NORMAL: Not needed\n",
      "Camera property TAKE_DRIVE read DRIVE_NORMAL (DRIVE_NORMAL DRIVE_CONTINUE): OK\n",
      "Camera property TAKEMODE read iAuto (iAuto P A S M ART movie Genius): OK\n",
      "Camera property TAKEMODE read iAuto (iAuto P A S M ART movie Genius): OK\n",
      "Camera property TAKEMODE change to P: OK\n",
      "Camera property TAKEMODE read P (iAuto P A S M ART movie Genius): OK\n",
      "Camera property DESTINATION_FILE read DESTINATION_FILE_MEDIA (DESTINATION_FILE_MEDIA): OK\n",
      "Camera property DESTINATION_FILE read DESTINATION_FILE_MEDIA (DESTINATION_FILE_MEDIA): OK\n",
      "Camera property DESTINATION_FILE change to DESTINATION_FILE_MEDIA: Not needed\n",
      "Camera property DESTINATION_FILE read DESTINATION_FILE_MEDIA (DESTINATION_FILE_MEDIA): OK\n"
     ]
    },
    {
     "data": {
      "text/plain": [
       "u'DESTINATION_FILE_MEDIA'"
      ]
     },
     "execution_count": 7,
     "metadata": {},
     "output_type": "execute_result"
    }
   ],
   "source": [
    "cam.getProperty('FOCUS_STILL')\n",
    "cam.setProperty('FOCUS_STILL','FOCUS_MF')\n",
    "cam.getProperty('FOCUS_STILL')\n",
    "\n",
    "cam.getProperty('RAW')\n",
    "cam.setProperty('RAW','ON')\n",
    "cam.getProperty('RAW')\n",
    "\n",
    "cam.getProperty('TAKE_DRIVE')\n",
    "cam.setProperty('TAKE_DRIVE','DRIVE_NORMAL')\n",
    "cam.getProperty('TAKE_DRIVE')\n",
    "\n",
    "cam.getProperty('TAKEMODE')\n",
    "cam.setProperty('TAKEMODE','P')\n",
    "cam.getProperty('TAKEMODE')\n",
    "\n",
    "cam.getProperty('DESTINATION_FILE')\n",
    "cam.setProperty('DESTINATION_FILE','DESTINATION_FILE_MEDIA')\n",
    "cam.getProperty('DESTINATION_FILE')"
   ]
  },
  {
   "cell_type": "code",
   "execution_count": 8,
   "metadata": {
    "collapsed": false
   },
   "outputs": [
    {
     "name": "stdout",
     "output_type": "stream",
     "text": [
      "Establishing liveview socket 65001: OK\n",
      "Camera live view resolution change to 0320x0240: OK\n",
      "Camera live view start: OK\n"
     ]
    }
   ],
   "source": [
    "cam.startPreview()"
   ]
  },
  {
   "cell_type": "code",
   "execution_count": 10,
   "metadata": {
    "collapsed": false
   },
   "outputs": [
    {
     "ename": "SyntaxError",
     "evalue": "invalid syntax (<ipython-input-10-3b0391f786e6>, line 11)",
     "output_type": "error",
     "traceback": [
      "\u001b[0;36m  File \u001b[0;32m\"<ipython-input-10-3b0391f786e6>\"\u001b[0;36m, line \u001b[0;32m11\u001b[0m\n\u001b[0;31m    if cv2.waitKey(1) & 0xFF == ord('q')\u001b[0m\n\u001b[0m                                        ^\u001b[0m\n\u001b[0;31mSyntaxError\u001b[0m\u001b[0;31m:\u001b[0m invalid syntax\n"
     ]
    }
   ],
   "source": [
    "\n",
    "while (1):\n",
    "    lvFrame = olympusair.LiveViewFrame()\n",
    "    lvFrame.getLiveViewFrame(cam.lvSocket)\n",
    "    tst = np.fromstring(lvFrame.jpegStream, dtype = np.uint8)\n",
    "\n",
    "\n",
    "    img = cv2.imdecode(tst,1)\n",
    "\n",
    "    cv2.imshow('Preview',img)\n",
    "    if cv2.waitKey(1) & 0xFF == ord('q'):\n",
    "        break\n",
    "        \n",
    "cv2.destroyAllWindows()"
   ]
  },
  {
   "cell_type": "code",
   "execution_count": null,
   "metadata": {
    "collapsed": false
   },
   "outputs": [],
   "source": [
    "cam.stopPreview()\n",
    "cam.disconnect()\n",
    "\n"
   ]
  },
  {
   "cell_type": "code",
   "execution_count": null,
   "metadata": {
    "collapsed": true
   },
   "outputs": [],
   "source": []
  }
 ],
 "metadata": {
  "kernelspec": {
   "display_name": "Python 2",
   "language": "python",
   "name": "python2"
  },
  "language_info": {
   "codemirror_mode": {
    "name": "ipython",
    "version": 2
   },
   "file_extension": ".py",
   "mimetype": "text/x-python",
   "name": "python",
   "nbconvert_exporter": "python",
   "pygments_lexer": "ipython2",
   "version": "2.7.9"
  }
 },
 "nbformat": 4,
 "nbformat_minor": 0
}
