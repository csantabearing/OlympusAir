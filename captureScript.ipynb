{
 "metadata": {
  "kernelspec": {
   "display_name": "Python 2",
   "language": "python",
   "name": "python2"
  },
  "language_info": {
   "codemirror_mode": {
    "name": "ipython",
    "version": 2
   },
   "file_extension": ".py",
   "mimetype": "text/x-python",
   "name": "python",
   "nbconvert_exporter": "python",
   "pygments_lexer": "ipython2",
   "version": "2.7.10"
  },
  "name": "captureScript"
 },
 "nbformat": 3,
 "nbformat_minor": 0,
 "worksheets": [
  {
   "cells": [
    {
     "cell_type": "code",
     "collapsed": false,
     "input": [
      "import OlympusAir\n",
      "import os\n",
      "import datetime\n",
      "import requests\n",
      "\n",
      "from OlympusAir import OlympusAir, OlympusAirError"
     ],
     "language": "python",
     "metadata": {},
     "outputs": [],
     "prompt_number": 4
    },
    {
     "cell_type": "code",
     "collapsed": false,
     "input": [
      "cam = OlympusAir()\n",
      "cam.commInterface()\n",
      "cam.switchMode('rec')\n",
      "cam.setProperty('FOCUS_STILL','FOCUS_SAF')\n",
      "cam.setProperty('RAW','ON')\n",
      "cam.setProperty('TAKE_DRIVE','DRIVE_NORMAL')\n",
      "cam.setProperty('TAKEMODE','P')\n",
      "cam.setProperty('DESTINATION_FILE','DESTINATION_FILE_MEDIA')\n",
      "cam.setZoom(20)\n",
      "\n",
      " \n",
      "dirPath = './' + datetime.datetime.now().strftime('%Y-%m-%d_%H-%M-%S')\n",
      "os.mkdir(dirPath)\n",
      "\n",
      "cam.startPreview()\n",
      "\n",
      "for i in range(10):\n",
      "    \n",
      "    cam.setProperty('FOCUS_STILL','FOCUS_SAF')\n",
      "    \n",
      "    attempts = 0\n",
      "    while attempts < 10:\n",
      "        try:\n",
      "            cam.takePicture()\n",
      "            \n",
      "            jpeg, raw = cam.getLatestFile()\n",
      "    \n",
      "            jpegFile = open(dirPath + '/' + 'LED%02i.jpg' % i,'w')\n",
      "            jpegFile.write(jpeg)\n",
      "    \n",
      "            rawFile = open(dirPath + '/' + 'LED%02i.orf' % i,'w')\n",
      "            rawFile.write(jpeg)\n",
      "            \n",
      "            break\n",
      "        except requests.exceptions.HTTPError as err:\n",
      "            # leave the script ?\n",
      "            # Recreate camera object?\n",
      "            pass\n",
      "        except OlympusAirError as err:\n",
      "            if err.value == OlympusAirError.AF:\n",
      "                print 'Autofocus error'\n",
      "                cam.setProperty('FOCUS_STILL','FOCUS_MF')\n",
      "        \n",
      "        attempts = attempts + 1\n",
      "  \n",
      "# What if we tried enough times\n",
      "    \n",
      "\n",
      "cam.stopPreview()\n",
      "cam.disconnect()"
     ],
     "language": "python",
     "metadata": {},
     "outputs": [
      {
       "output_type": "stream",
       "stream": "stdout",
       "text": [
        "Camera init: OK\n",
        "Establishing camera event notification: "
       ]
      },
      {
       "output_type": "stream",
       "stream": "stdout",
       "text": [
        "OK\n",
        "Establishing event socket, port 65000:  Camera communication mode change to wifi: OK\n",
        "Camera mode change to rec: "
       ]
      },
      {
       "output_type": "stream",
       "stream": "stdout",
       "text": [
        "OK\n",
        "OK"
       ]
      },
      {
       "output_type": "stream",
       "stream": "stdout",
       "text": [
        "\n",
        "True appID: 2; eventID: 206; data: <?xml version=\"1.0\"?><prop>FOCUS_STILL</prop>\n",
        "OK\n",
        "True appID: 2; eventID: 206; data: <?xml version=\"1.0\"?><prop>RAW</prop>\n",
        "OK"
       ]
      },
      {
       "output_type": "stream",
       "stream": "stdout",
       "text": [
        "\n",
        "Waiting for events, attempt 1/5"
       ]
      },
      {
       "output_type": "stream",
       "stream": "stdout",
       "text": [
        "\n",
        "Waiting for events, attempt 2/5"
       ]
      },
      {
       "output_type": "stream",
       "stream": "stdout",
       "text": [
        "\n",
        "Waiting for events, attempt 3/5"
       ]
      },
      {
       "output_type": "stream",
       "stream": "stdout",
       "text": [
        "\n",
        "Waiting for events, attempt 4/5"
       ]
      },
      {
       "output_type": "stream",
       "stream": "stdout",
       "text": [
        "\n",
        "Waiting for events, attempt 5/5"
       ]
      },
      {
       "output_type": "stream",
       "stream": "stdout",
       "text": [
        "\n",
        "False None\n",
        "OK"
       ]
      },
      {
       "output_type": "stream",
       "stream": "stdout",
       "text": [
        "\n",
        "Waiting for events, attempt 1/5"
       ]
      },
      {
       "output_type": "stream",
       "stream": "stdout",
       "text": [
        "\n",
        "Waiting for events, attempt 2/5"
       ]
      },
      {
       "output_type": "stream",
       "stream": "stdout",
       "text": [
        "\n",
        "Waiting for events, attempt 3/5"
       ]
      },
      {
       "output_type": "stream",
       "stream": "stdout",
       "text": [
        "\n",
        "Waiting for events, attempt 4/5"
       ]
      },
      {
       "output_type": "stream",
       "stream": "stdout",
       "text": [
        "\n",
        "Waiting for events, attempt 5/5"
       ]
      },
      {
       "output_type": "stream",
       "stream": "stdout",
       "text": [
        "\n",
        "False None\n",
        "OK\n",
        "True appID: 2; eventID: 206; data: <?xml version=\"1.0\"?><prop>DESTINATION_FILE</prop>\n",
        "Camera zoom set to 20: "
       ]
      },
      {
       "output_type": "stream",
       "stream": "stdout",
       "text": [
        "OK\n",
        "Establishing liveview socket 65001: OK\n",
        "Camera live view resolution change to 0320x0240: "
       ]
      },
      {
       "output_type": "stream",
       "stream": "stdout",
       "text": [
        "OK\n",
        "Camera live view start: OK\n",
        "OK"
       ]
      },
      {
       "output_type": "stream",
       "stream": "stdout",
       "text": [
        "\n",
        "True appID: 2; eventID: 206; data: <?xml version=\"1.0\"?><prop>FOCUS_STILL</prop>\n",
        "Camera picture acquisition: OK\n",
        "Waiting for events, attempt 1/5"
       ]
      },
      {
       "output_type": "stream",
       "stream": "stdout",
       "text": [
        "\n",
        "Waiting for events, attempt 2/5"
       ]
      },
      {
       "output_type": "stream",
       "stream": "stdout",
       "text": [
        "\n",
        "Waiting for events, attempt 3/5"
       ]
      },
      {
       "output_type": "stream",
       "stream": "stdout",
       "text": [
        "\n",
        "Waiting for events, attempt 4/5"
       ]
      },
      {
       "output_type": "stream",
       "stream": "stdout",
       "text": [
        "\n",
        "Waiting for events, attempt 5/5"
       ]
      },
      {
       "ename": "NameError",
       "evalue": "name 'requests' is not defined",
       "output_type": "pyerr",
       "traceback": [
        "\u001b[0;31m---------------------------------------------------------------------------\u001b[0m\n\u001b[0;31mNameError\u001b[0m                                 Traceback (most recent call last)",
        "\u001b[0;32m<ipython-input-7-04486541af78>\u001b[0m in \u001b[0;36m<module>\u001b[0;34m()\u001b[0m\n\u001b[1;32m     33\u001b[0m \u001b[0;34m\u001b[0m\u001b[0m\n\u001b[1;32m     34\u001b[0m             \u001b[0;32mbreak\u001b[0m\u001b[0;34m\u001b[0m\u001b[0m\n\u001b[0;32m---> 35\u001b[0;31m         \u001b[0;32mexcept\u001b[0m \u001b[0mrequests\u001b[0m\u001b[0;34m.\u001b[0m\u001b[0mexceptions\u001b[0m\u001b[0;34m.\u001b[0m\u001b[0mHTTPError\u001b[0m \u001b[0;32mas\u001b[0m \u001b[0merr\u001b[0m\u001b[0;34m:\u001b[0m\u001b[0;34m\u001b[0m\u001b[0m\n\u001b[0m\u001b[1;32m     36\u001b[0m             \u001b[0;31m# leave the script ?\u001b[0m\u001b[0;34m\u001b[0m\u001b[0;34m\u001b[0m\u001b[0m\n\u001b[1;32m     37\u001b[0m             \u001b[0;31m# Recreate camera object?\u001b[0m\u001b[0;34m\u001b[0m\u001b[0;34m\u001b[0m\u001b[0m\n",
        "\u001b[0;31mNameError\u001b[0m: name 'requests' is not defined"
       ]
      },
      {
       "output_type": "stream",
       "stream": "stdout",
       "text": [
        "\n"
       ]
      }
     ],
     "prompt_number": 7
    },
    {
     "cell_type": "code",
     "collapsed": false,
     "input": [
      "cam.stopPreview()\n",
      "cam.disconnect()"
     ],
     "language": "python",
     "metadata": {},
     "outputs": [
      {
       "output_type": "stream",
       "stream": "stdout",
       "text": [
        "Camera live view stop: OK\n",
        "Disconnecting camera: "
       ]
      },
      {
       "output_type": "stream",
       "stream": "stdout",
       "text": [
        "OK\n"
       ]
      }
     ],
     "prompt_number": 9
    },
    {
     "cell_type": "code",
     "collapsed": false,
     "input": [],
     "language": "python",
     "metadata": {},
     "outputs": []
    }
   ],
   "metadata": {}
  }
 ]
}